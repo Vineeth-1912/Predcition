{
 "cells": [
  {
   "cell_type": "code",
   "execution_count": 1,
   "id": "b082da41",
   "metadata": {},
   "outputs": [],
   "source": [
    "import pandas as pd\n",
    "import numpy as np\n",
    "import seaborn as sns\n",
    "import matplotlib.pyplot as plt"
   ]
  },
  {
   "cell_type": "code",
   "execution_count": 2,
   "id": "b24afae2",
   "metadata": {},
   "outputs": [],
   "source": [
    "df=pd.read_excel(\"boss.xlsx\")"
   ]
  },
  {
   "cell_type": "code",
   "execution_count": 3,
   "id": "35194541",
   "metadata": {},
   "outputs": [
    {
     "data": {
      "text/html": [
       "<div>\n",
       "<style scoped>\n",
       "    .dataframe tbody tr th:only-of-type {\n",
       "        vertical-align: middle;\n",
       "    }\n",
       "\n",
       "    .dataframe tbody tr th {\n",
       "        vertical-align: top;\n",
       "    }\n",
       "\n",
       "    .dataframe thead th {\n",
       "        text-align: right;\n",
       "    }\n",
       "</style>\n",
       "<table border=\"1\" class=\"dataframe\">\n",
       "  <thead>\n",
       "    <tr style=\"text-align: right;\">\n",
       "      <th></th>\n",
       "      <th>Employee ID</th>\n",
       "      <th>Full Name</th>\n",
       "      <th>Job Title</th>\n",
       "      <th>Department</th>\n",
       "      <th>Business Unit</th>\n",
       "      <th>Gender</th>\n",
       "      <th>Ethnicity</th>\n",
       "      <th>Age</th>\n",
       "      <th>Hire Date</th>\n",
       "      <th>Annual Salary</th>\n",
       "      <th>Bonus %</th>\n",
       "      <th>Country</th>\n",
       "      <th>City</th>\n",
       "      <th>Exit Date</th>\n",
       "    </tr>\n",
       "  </thead>\n",
       "  <tbody>\n",
       "    <tr>\n",
       "      <th>0</th>\n",
       "      <td>E02002</td>\n",
       "      <td>Kai Le</td>\n",
       "      <td>Controls Engineer</td>\n",
       "      <td>Engineering</td>\n",
       "      <td>Manufacturing</td>\n",
       "      <td>Male</td>\n",
       "      <td>Asian</td>\n",
       "      <td>47</td>\n",
       "      <td>2022-02-05</td>\n",
       "      <td>92368</td>\n",
       "      <td>0.00</td>\n",
       "      <td>United States</td>\n",
       "      <td>Columbus</td>\n",
       "      <td>NaT</td>\n",
       "    </tr>\n",
       "    <tr>\n",
       "      <th>1</th>\n",
       "      <td>E02006</td>\n",
       "      <td>Harper Dominguez</td>\n",
       "      <td>Director</td>\n",
       "      <td>Engineering</td>\n",
       "      <td>Corporate</td>\n",
       "      <td>Female</td>\n",
       "      <td>Latino</td>\n",
       "      <td>42</td>\n",
       "      <td>2005-06-18</td>\n",
       "      <td>175391</td>\n",
       "      <td>0.24</td>\n",
       "      <td>United States</td>\n",
       "      <td>Austin</td>\n",
       "      <td>NaT</td>\n",
       "    </tr>\n",
       "    <tr>\n",
       "      <th>2</th>\n",
       "      <td>E02018</td>\n",
       "      <td>Bella Tran</td>\n",
       "      <td>Vice President</td>\n",
       "      <td>Engineering</td>\n",
       "      <td>Specialty Products</td>\n",
       "      <td>Female</td>\n",
       "      <td>Asian</td>\n",
       "      <td>45</td>\n",
       "      <td>2010-08-05</td>\n",
       "      <td>254486</td>\n",
       "      <td>0.33</td>\n",
       "      <td>China</td>\n",
       "      <td>Chengdu</td>\n",
       "      <td>NaT</td>\n",
       "    </tr>\n",
       "    <tr>\n",
       "      <th>3</th>\n",
       "      <td>E02037</td>\n",
       "      <td>Landon Gonzales</td>\n",
       "      <td>Test Engineer</td>\n",
       "      <td>Engineering</td>\n",
       "      <td>Specialty Products</td>\n",
       "      <td>Male</td>\n",
       "      <td>Latino</td>\n",
       "      <td>54</td>\n",
       "      <td>2009-08-30</td>\n",
       "      <td>88689</td>\n",
       "      <td>0.00</td>\n",
       "      <td>United States</td>\n",
       "      <td>Phoenix</td>\n",
       "      <td>NaT</td>\n",
       "    </tr>\n",
       "    <tr>\n",
       "      <th>4</th>\n",
       "      <td>E02046</td>\n",
       "      <td>Ruby Kaur</td>\n",
       "      <td>Test Engineer</td>\n",
       "      <td>Engineering</td>\n",
       "      <td>Research &amp; Development</td>\n",
       "      <td>Female</td>\n",
       "      <td>Asian</td>\n",
       "      <td>26</td>\n",
       "      <td>2021-06-26</td>\n",
       "      <td>91672</td>\n",
       "      <td>0.00</td>\n",
       "      <td>China</td>\n",
       "      <td>Beijing</td>\n",
       "      <td>NaT</td>\n",
       "    </tr>\n",
       "    <tr>\n",
       "      <th>...</th>\n",
       "      <td>...</td>\n",
       "      <td>...</td>\n",
       "      <td>...</td>\n",
       "      <td>...</td>\n",
       "      <td>...</td>\n",
       "      <td>...</td>\n",
       "      <td>...</td>\n",
       "      <td>...</td>\n",
       "      <td>...</td>\n",
       "      <td>...</td>\n",
       "      <td>...</td>\n",
       "      <td>...</td>\n",
       "      <td>...</td>\n",
       "      <td>...</td>\n",
       "    </tr>\n",
       "    <tr>\n",
       "      <th>136</th>\n",
       "      <td>E02976</td>\n",
       "      <td>Sofia Dixon</td>\n",
       "      <td>Automation Engineer</td>\n",
       "      <td>Engineering</td>\n",
       "      <td>Manufacturing</td>\n",
       "      <td>Female</td>\n",
       "      <td>Caucasian</td>\n",
       "      <td>41</td>\n",
       "      <td>2011-09-13</td>\n",
       "      <td>95598</td>\n",
       "      <td>0.00</td>\n",
       "      <td>United States</td>\n",
       "      <td>Columbus</td>\n",
       "      <td>NaT</td>\n",
       "    </tr>\n",
       "    <tr>\n",
       "      <th>137</th>\n",
       "      <td>E02979</td>\n",
       "      <td>Christopher Kang</td>\n",
       "      <td>Engineering Manager</td>\n",
       "      <td>Engineering</td>\n",
       "      <td>Research &amp; Development</td>\n",
       "      <td>Male</td>\n",
       "      <td>Asian</td>\n",
       "      <td>31</td>\n",
       "      <td>2016-09-07</td>\n",
       "      <td>118644</td>\n",
       "      <td>0.13</td>\n",
       "      <td>United States</td>\n",
       "      <td>Phoenix</td>\n",
       "      <td>NaT</td>\n",
       "    </tr>\n",
       "    <tr>\n",
       "      <th>138</th>\n",
       "      <td>E02991</td>\n",
       "      <td>John Campos</td>\n",
       "      <td>Operations Engineer</td>\n",
       "      <td>Engineering</td>\n",
       "      <td>Manufacturing</td>\n",
       "      <td>Male</td>\n",
       "      <td>Latino</td>\n",
       "      <td>34</td>\n",
       "      <td>2021-02-25</td>\n",
       "      <td>104586</td>\n",
       "      <td>0.00</td>\n",
       "      <td>Brazil</td>\n",
       "      <td>Sao Paulo</td>\n",
       "      <td>NaT</td>\n",
       "    </tr>\n",
       "    <tr>\n",
       "      <th>139</th>\n",
       "      <td>E02996</td>\n",
       "      <td>Ian Le</td>\n",
       "      <td>Vice President</td>\n",
       "      <td>Engineering</td>\n",
       "      <td>Specialty Products</td>\n",
       "      <td>Male</td>\n",
       "      <td>Asian</td>\n",
       "      <td>46</td>\n",
       "      <td>2007-08-28</td>\n",
       "      <td>195471</td>\n",
       "      <td>0.36</td>\n",
       "      <td>United States</td>\n",
       "      <td>Phoenix</td>\n",
       "      <td>NaT</td>\n",
       "    </tr>\n",
       "    <tr>\n",
       "      <th>140</th>\n",
       "      <td>E03000</td>\n",
       "      <td>Thomas Lam</td>\n",
       "      <td>Controls Engineer</td>\n",
       "      <td>Engineering</td>\n",
       "      <td>Manufacturing</td>\n",
       "      <td>Male</td>\n",
       "      <td>Asian</td>\n",
       "      <td>52</td>\n",
       "      <td>2022-11-18</td>\n",
       "      <td>75775</td>\n",
       "      <td>0.00</td>\n",
       "      <td>United States</td>\n",
       "      <td>Seattle</td>\n",
       "      <td>NaT</td>\n",
       "    </tr>\n",
       "  </tbody>\n",
       "</table>\n",
       "<p>141 rows × 14 columns</p>\n",
       "</div>"
      ],
      "text/plain": [
       "    Employee ID         Full Name            Job Title   Department  \\\n",
       "0        E02002            Kai Le    Controls Engineer  Engineering   \n",
       "1        E02006  Harper Dominguez             Director  Engineering   \n",
       "2        E02018        Bella Tran       Vice President  Engineering   \n",
       "3        E02037   Landon Gonzales        Test Engineer  Engineering   \n",
       "4        E02046         Ruby Kaur        Test Engineer  Engineering   \n",
       "..          ...               ...                  ...          ...   \n",
       "136      E02976       Sofia Dixon  Automation Engineer  Engineering   \n",
       "137      E02979  Christopher Kang  Engineering Manager  Engineering   \n",
       "138      E02991       John Campos  Operations Engineer  Engineering   \n",
       "139      E02996            Ian Le       Vice President  Engineering   \n",
       "140      E03000        Thomas Lam    Controls Engineer  Engineering   \n",
       "\n",
       "              Business Unit  Gender  Ethnicity  Age  Hire Date  Annual Salary  \\\n",
       "0             Manufacturing    Male      Asian   47 2022-02-05          92368   \n",
       "1                 Corporate  Female     Latino   42 2005-06-18         175391   \n",
       "2        Specialty Products  Female      Asian   45 2010-08-05         254486   \n",
       "3        Specialty Products    Male     Latino   54 2009-08-30          88689   \n",
       "4    Research & Development  Female      Asian   26 2021-06-26          91672   \n",
       "..                      ...     ...        ...  ...        ...            ...   \n",
       "136           Manufacturing  Female  Caucasian   41 2011-09-13          95598   \n",
       "137  Research & Development    Male      Asian   31 2016-09-07         118644   \n",
       "138           Manufacturing    Male     Latino   34 2021-02-25         104586   \n",
       "139      Specialty Products    Male      Asian   46 2007-08-28         195471   \n",
       "140           Manufacturing    Male      Asian   52 2022-11-18          75775   \n",
       "\n",
       "     Bonus %        Country       City Exit Date  \n",
       "0       0.00  United States   Columbus       NaT  \n",
       "1       0.24  United States     Austin       NaT  \n",
       "2       0.33          China    Chengdu       NaT  \n",
       "3       0.00  United States    Phoenix       NaT  \n",
       "4       0.00          China    Beijing       NaT  \n",
       "..       ...            ...        ...       ...  \n",
       "136     0.00  United States   Columbus       NaT  \n",
       "137     0.13  United States    Phoenix       NaT  \n",
       "138     0.00         Brazil  Sao Paulo       NaT  \n",
       "139     0.36  United States    Phoenix       NaT  \n",
       "140     0.00  United States    Seattle       NaT  \n",
       "\n",
       "[141 rows x 14 columns]"
      ]
     },
     "execution_count": 3,
     "metadata": {},
     "output_type": "execute_result"
    }
   ],
   "source": [
    "df"
   ]
  },
  {
   "cell_type": "code",
   "execution_count": 4,
   "id": "26d9f97d",
   "metadata": {},
   "outputs": [
    {
     "data": {
      "text/plain": [
       "Index(['Employee ID', 'Full Name', 'Job Title', 'Department', 'Business Unit',\n",
       "       'Gender', 'Ethnicity', 'Age', 'Hire Date', 'Annual Salary', 'Bonus %',\n",
       "       'Country', 'City', 'Exit Date'],\n",
       "      dtype='object')"
      ]
     },
     "execution_count": 4,
     "metadata": {},
     "output_type": "execute_result"
    }
   ],
   "source": [
    "df.columns"
   ]
  },
  {
   "cell_type": "code",
   "execution_count": 5,
   "id": "bf62fd22",
   "metadata": {},
   "outputs": [
    {
     "data": {
      "text/plain": [
       "(141, 14)"
      ]
     },
     "execution_count": 5,
     "metadata": {},
     "output_type": "execute_result"
    }
   ],
   "source": [
    "df.shape"
   ]
  },
  {
   "cell_type": "code",
   "execution_count": 6,
   "id": "87ff69ae",
   "metadata": {},
   "outputs": [
    {
     "data": {
      "text/html": [
       "<div>\n",
       "<style scoped>\n",
       "    .dataframe tbody tr th:only-of-type {\n",
       "        vertical-align: middle;\n",
       "    }\n",
       "\n",
       "    .dataframe tbody tr th {\n",
       "        vertical-align: top;\n",
       "    }\n",
       "\n",
       "    .dataframe thead th {\n",
       "        text-align: right;\n",
       "    }\n",
       "</style>\n",
       "<table border=\"1\" class=\"dataframe\">\n",
       "  <thead>\n",
       "    <tr style=\"text-align: right;\">\n",
       "      <th></th>\n",
       "      <th>Age</th>\n",
       "      <th>Hire Date</th>\n",
       "      <th>Annual Salary</th>\n",
       "      <th>Bonus %</th>\n",
       "      <th>Exit Date</th>\n",
       "    </tr>\n",
       "  </thead>\n",
       "  <tbody>\n",
       "    <tr>\n",
       "      <th>count</th>\n",
       "      <td>141.000000</td>\n",
       "      <td>141</td>\n",
       "      <td>141.000000</td>\n",
       "      <td>141.000000</td>\n",
       "      <td>14</td>\n",
       "    </tr>\n",
       "    <tr>\n",
       "      <th>mean</th>\n",
       "      <td>45.198582</td>\n",
       "      <td>2012-06-14 16:40:51.063829760</td>\n",
       "      <td>107888.177305</td>\n",
       "      <td>0.058723</td>\n",
       "      <td>2019-09-28 01:42:51.428571392</td>\n",
       "    </tr>\n",
       "    <tr>\n",
       "      <th>min</th>\n",
       "      <td>25.000000</td>\n",
       "      <td>1993-07-25 00:00:00</td>\n",
       "      <td>61243.000000</td>\n",
       "      <td>0.000000</td>\n",
       "      <td>2010-09-05 00:00:00</td>\n",
       "    </tr>\n",
       "    <tr>\n",
       "      <th>25%</th>\n",
       "      <td>36.000000</td>\n",
       "      <td>2006-03-17 00:00:00</td>\n",
       "      <td>78212.000000</td>\n",
       "      <td>0.000000</td>\n",
       "      <td>2017-12-14 12:00:00</td>\n",
       "    </tr>\n",
       "    <tr>\n",
       "      <th>50%</th>\n",
       "      <td>45.000000</td>\n",
       "      <td>2013-10-26 00:00:00</td>\n",
       "      <td>91729.000000</td>\n",
       "      <td>0.000000</td>\n",
       "      <td>2020-02-17 00:00:00</td>\n",
       "    </tr>\n",
       "    <tr>\n",
       "      <th>75%</th>\n",
       "      <td>55.000000</td>\n",
       "      <td>2019-11-28 00:00:00</td>\n",
       "      <td>118639.000000</td>\n",
       "      <td>0.000000</td>\n",
       "      <td>2022-08-05 12:00:00</td>\n",
       "    </tr>\n",
       "    <tr>\n",
       "      <th>max</th>\n",
       "      <td>65.000000</td>\n",
       "      <td>2022-12-12 00:00:00</td>\n",
       "      <td>258734.000000</td>\n",
       "      <td>0.400000</td>\n",
       "      <td>2023-02-12 00:00:00</td>\n",
       "    </tr>\n",
       "    <tr>\n",
       "      <th>std</th>\n",
       "      <td>11.285401</td>\n",
       "      <td>NaN</td>\n",
       "      <td>46327.841715</td>\n",
       "      <td>0.113086</td>\n",
       "      <td>NaN</td>\n",
       "    </tr>\n",
       "  </tbody>\n",
       "</table>\n",
       "</div>"
      ],
      "text/plain": [
       "              Age                      Hire Date  Annual Salary     Bonus %  \\\n",
       "count  141.000000                            141     141.000000  141.000000   \n",
       "mean    45.198582  2012-06-14 16:40:51.063829760  107888.177305    0.058723   \n",
       "min     25.000000            1993-07-25 00:00:00   61243.000000    0.000000   \n",
       "25%     36.000000            2006-03-17 00:00:00   78212.000000    0.000000   \n",
       "50%     45.000000            2013-10-26 00:00:00   91729.000000    0.000000   \n",
       "75%     55.000000            2019-11-28 00:00:00  118639.000000    0.000000   \n",
       "max     65.000000            2022-12-12 00:00:00  258734.000000    0.400000   \n",
       "std     11.285401                            NaN   46327.841715    0.113086   \n",
       "\n",
       "                           Exit Date  \n",
       "count                             14  \n",
       "mean   2019-09-28 01:42:51.428571392  \n",
       "min              2010-09-05 00:00:00  \n",
       "25%              2017-12-14 12:00:00  \n",
       "50%              2020-02-17 00:00:00  \n",
       "75%              2022-08-05 12:00:00  \n",
       "max              2023-02-12 00:00:00  \n",
       "std                              NaN  "
      ]
     },
     "execution_count": 6,
     "metadata": {},
     "output_type": "execute_result"
    }
   ],
   "source": [
    "df.describe()"
   ]
  },
  {
   "cell_type": "code",
   "execution_count": 7,
   "id": "8038a5b9",
   "metadata": {},
   "outputs": [
    {
     "data": {
      "text/plain": [
       "Employee ID        0\n",
       "Full Name          0\n",
       "Job Title          0\n",
       "Department         0\n",
       "Business Unit      0\n",
       "Gender             0\n",
       "Ethnicity          0\n",
       "Age                0\n",
       "Hire Date          0\n",
       "Annual Salary      0\n",
       "Bonus %            0\n",
       "Country            0\n",
       "City               0\n",
       "Exit Date        127\n",
       "dtype: int64"
      ]
     },
     "execution_count": 7,
     "metadata": {},
     "output_type": "execute_result"
    }
   ],
   "source": [
    "df.isnull().sum()\n"
   ]
  },
  {
   "cell_type": "code",
   "execution_count": 8,
   "id": "88a661e1",
   "metadata": {},
   "outputs": [],
   "source": [
    "#if there is any null value u can use the mean values in order fill in the data set"
   ]
  },
  {
   "cell_type": "code",
   "execution_count": 9,
   "id": "77bcc160",
   "metadata": {},
   "outputs": [
    {
     "data": {
      "text/html": [
       "<div>\n",
       "<style scoped>\n",
       "    .dataframe tbody tr th:only-of-type {\n",
       "        vertical-align: middle;\n",
       "    }\n",
       "\n",
       "    .dataframe tbody tr th {\n",
       "        vertical-align: top;\n",
       "    }\n",
       "\n",
       "    .dataframe thead th {\n",
       "        text-align: right;\n",
       "    }\n",
       "</style>\n",
       "<table border=\"1\" class=\"dataframe\">\n",
       "  <thead>\n",
       "    <tr style=\"text-align: right;\">\n",
       "      <th></th>\n",
       "      <th>Employee ID</th>\n",
       "      <th>Full Name</th>\n",
       "      <th>Job Title</th>\n",
       "      <th>Department</th>\n",
       "      <th>Business Unit</th>\n",
       "      <th>Gender</th>\n",
       "      <th>Ethnicity</th>\n",
       "      <th>Age</th>\n",
       "      <th>Hire Date</th>\n",
       "      <th>Annual Salary</th>\n",
       "      <th>Bonus %</th>\n",
       "      <th>Country</th>\n",
       "      <th>City</th>\n",
       "      <th>Exit Date</th>\n",
       "    </tr>\n",
       "  </thead>\n",
       "  <tbody>\n",
       "    <tr>\n",
       "      <th>0</th>\n",
       "      <td>E02002</td>\n",
       "      <td>Kai Le</td>\n",
       "      <td>Controls Engineer</td>\n",
       "      <td>Engineering</td>\n",
       "      <td>Manufacturing</td>\n",
       "      <td>Male</td>\n",
       "      <td>Asian</td>\n",
       "      <td>47</td>\n",
       "      <td>2022-02-05</td>\n",
       "      <td>92368</td>\n",
       "      <td>0.00</td>\n",
       "      <td>United States</td>\n",
       "      <td>Columbus</td>\n",
       "      <td>NaT</td>\n",
       "    </tr>\n",
       "    <tr>\n",
       "      <th>1</th>\n",
       "      <td>E02006</td>\n",
       "      <td>Harper Dominguez</td>\n",
       "      <td>Director</td>\n",
       "      <td>Engineering</td>\n",
       "      <td>Corporate</td>\n",
       "      <td>Female</td>\n",
       "      <td>Latino</td>\n",
       "      <td>42</td>\n",
       "      <td>2005-06-18</td>\n",
       "      <td>175391</td>\n",
       "      <td>0.24</td>\n",
       "      <td>United States</td>\n",
       "      <td>Austin</td>\n",
       "      <td>NaT</td>\n",
       "    </tr>\n",
       "    <tr>\n",
       "      <th>2</th>\n",
       "      <td>E02018</td>\n",
       "      <td>Bella Tran</td>\n",
       "      <td>Vice President</td>\n",
       "      <td>Engineering</td>\n",
       "      <td>Specialty Products</td>\n",
       "      <td>Female</td>\n",
       "      <td>Asian</td>\n",
       "      <td>45</td>\n",
       "      <td>2010-08-05</td>\n",
       "      <td>254486</td>\n",
       "      <td>0.33</td>\n",
       "      <td>China</td>\n",
       "      <td>Chengdu</td>\n",
       "      <td>NaT</td>\n",
       "    </tr>\n",
       "    <tr>\n",
       "      <th>3</th>\n",
       "      <td>E02037</td>\n",
       "      <td>Landon Gonzales</td>\n",
       "      <td>Test Engineer</td>\n",
       "      <td>Engineering</td>\n",
       "      <td>Specialty Products</td>\n",
       "      <td>Male</td>\n",
       "      <td>Latino</td>\n",
       "      <td>54</td>\n",
       "      <td>2009-08-30</td>\n",
       "      <td>88689</td>\n",
       "      <td>0.00</td>\n",
       "      <td>United States</td>\n",
       "      <td>Phoenix</td>\n",
       "      <td>NaT</td>\n",
       "    </tr>\n",
       "    <tr>\n",
       "      <th>4</th>\n",
       "      <td>E02046</td>\n",
       "      <td>Ruby Kaur</td>\n",
       "      <td>Test Engineer</td>\n",
       "      <td>Engineering</td>\n",
       "      <td>Research &amp; Development</td>\n",
       "      <td>Female</td>\n",
       "      <td>Asian</td>\n",
       "      <td>26</td>\n",
       "      <td>2021-06-26</td>\n",
       "      <td>91672</td>\n",
       "      <td>0.00</td>\n",
       "      <td>China</td>\n",
       "      <td>Beijing</td>\n",
       "      <td>NaT</td>\n",
       "    </tr>\n",
       "  </tbody>\n",
       "</table>\n",
       "</div>"
      ],
      "text/plain": [
       "  Employee ID         Full Name          Job Title   Department  \\\n",
       "0      E02002            Kai Le  Controls Engineer  Engineering   \n",
       "1      E02006  Harper Dominguez           Director  Engineering   \n",
       "2      E02018        Bella Tran     Vice President  Engineering   \n",
       "3      E02037   Landon Gonzales      Test Engineer  Engineering   \n",
       "4      E02046         Ruby Kaur      Test Engineer  Engineering   \n",
       "\n",
       "            Business Unit  Gender Ethnicity  Age  Hire Date  Annual Salary  \\\n",
       "0           Manufacturing    Male     Asian   47 2022-02-05          92368   \n",
       "1               Corporate  Female    Latino   42 2005-06-18         175391   \n",
       "2      Specialty Products  Female     Asian   45 2010-08-05         254486   \n",
       "3      Specialty Products    Male    Latino   54 2009-08-30          88689   \n",
       "4  Research & Development  Female     Asian   26 2021-06-26          91672   \n",
       "\n",
       "   Bonus %        Country      City Exit Date  \n",
       "0     0.00  United States  Columbus       NaT  \n",
       "1     0.24  United States    Austin       NaT  \n",
       "2     0.33          China   Chengdu       NaT  \n",
       "3     0.00  United States   Phoenix       NaT  \n",
       "4     0.00          China   Beijing       NaT  "
      ]
     },
     "execution_count": 9,
     "metadata": {},
     "output_type": "execute_result"
    }
   ],
   "source": [
    "df.head()"
   ]
  },
  {
   "cell_type": "code",
   "execution_count": 10,
   "id": "a7325d13",
   "metadata": {},
   "outputs": [
    {
     "data": {
      "text/plain": [
       "<seaborn.axisgrid.FacetGrid at 0x1fd916afdd0>"
      ]
     },
     "execution_count": 10,
     "metadata": {},
     "output_type": "execute_result"
    },
    {
     "data": {
      "image/png": "[encoded data removed]",
      "text/plain": [
       "<Figure size 500x500 with 1 Axes>"
      ]
     },
     "metadata": {},
     "output_type": "display_data"
    }
   ],
   "source": [
    "sns.relplot(x ='Bonus %',y ='Age',data=df)"
   ]
  },
  {
   "cell_type": "code",
   "execution_count": 11,
   "id": "f84acdae",
   "metadata": {},
   "outputs": [
    {
     "data": {
      "text/html": [
       "<div>\n",
       "<style scoped>\n",
       "    .dataframe tbody tr th:only-of-type {\n",
       "        vertical-align: middle;\n",
       "    }\n",
       "\n",
       "    .dataframe tbody tr th {\n",
       "        vertical-align: top;\n",
       "    }\n",
       "\n",
       "    .dataframe thead th {\n",
       "        text-align: right;\n",
       "    }\n",
       "</style>\n",
       "<table border=\"1\" class=\"dataframe\">\n",
       "  <thead>\n",
       "    <tr style=\"text-align: right;\">\n",
       "      <th></th>\n",
       "      <th>Age</th>\n",
       "      <th>Annual Salary</th>\n",
       "    </tr>\n",
       "  </thead>\n",
       "  <tbody>\n",
       "    <tr>\n",
       "      <th>0</th>\n",
       "      <td>47</td>\n",
       "      <td>92368</td>\n",
       "    </tr>\n",
       "    <tr>\n",
       "      <th>1</th>\n",
       "      <td>42</td>\n",
       "      <td>175391</td>\n",
       "    </tr>\n",
       "    <tr>\n",
       "      <th>2</th>\n",
       "      <td>45</td>\n",
       "      <td>254486</td>\n",
       "    </tr>\n",
       "    <tr>\n",
       "      <th>3</th>\n",
       "      <td>54</td>\n",
       "      <td>88689</td>\n",
       "    </tr>\n",
       "    <tr>\n",
       "      <th>4</th>\n",
       "      <td>26</td>\n",
       "      <td>91672</td>\n",
       "    </tr>\n",
       "    <tr>\n",
       "      <th>...</th>\n",
       "      <td>...</td>\n",
       "      <td>...</td>\n",
       "    </tr>\n",
       "    <tr>\n",
       "      <th>136</th>\n",
       "      <td>41</td>\n",
       "      <td>95598</td>\n",
       "    </tr>\n",
       "    <tr>\n",
       "      <th>137</th>\n",
       "      <td>31</td>\n",
       "      <td>118644</td>\n",
       "    </tr>\n",
       "    <tr>\n",
       "      <th>138</th>\n",
       "      <td>34</td>\n",
       "      <td>104586</td>\n",
       "    </tr>\n",
       "    <tr>\n",
       "      <th>139</th>\n",
       "      <td>46</td>\n",
       "      <td>195471</td>\n",
       "    </tr>\n",
       "    <tr>\n",
       "      <th>140</th>\n",
       "      <td>52</td>\n",
       "      <td>75775</td>\n",
       "    </tr>\n",
       "  </tbody>\n",
       "</table>\n",
       "<p>141 rows × 2 columns</p>\n",
       "</div>"
      ],
      "text/plain": [
       "     Age  Annual Salary\n",
       "0     47          92368\n",
       "1     42         175391\n",
       "2     45         254486\n",
       "3     54          88689\n",
       "4     26          91672\n",
       "..   ...            ...\n",
       "136   41          95598\n",
       "137   31         118644\n",
       "138   34         104586\n",
       "139   46         195471\n",
       "140   52          75775\n",
       "\n",
       "[141 rows x 2 columns]"
      ]
     },
     "execution_count": 11,
     "metadata": {},
     "output_type": "execute_result"
    }
   ],
   "source": [
    "x=df.drop([\"Employee ID\",\"Full Name\",\"Job Title\",\"Department\",\"Business Unit\",\"Gender\",\"Ethnicity\",\"Hire Date\",\"Country\",\"City\",\"Exit Date\",\"Bonus %\"],axis=1)\n",
    "y=df[\"Bonus %\"]\n",
    "x"
   ]
  },
  {
   "cell_type": "code",
   "execution_count": 12,
   "id": "c3580ab4",
   "metadata": {},
   "outputs": [
    {
     "data": {
      "text/plain": [
       "0      0.00\n",
       "1      0.24\n",
       "2      0.33\n",
       "3      0.00\n",
       "4      0.00\n",
       "       ... \n",
       "136    0.00\n",
       "137    0.13\n",
       "138    0.00\n",
       "139    0.36\n",
       "140    0.00\n",
       "Name: Bonus %, Length: 141, dtype: float64"
      ]
     },
     "execution_count": 12,
     "metadata": {},
     "output_type": "execute_result"
    }
   ],
   "source": [
    "y"
   ]
  },
  {
   "cell_type": "code",
   "execution_count": 13,
   "id": "8675eda8",
   "metadata": {},
   "outputs": [],
   "source": [
    "from sklearn.model_selection import train_test_split\n"
   ]
  },
  {
   "cell_type": "code",
   "execution_count": 14,
   "id": "d76a26dc",
   "metadata": {},
   "outputs": [],
   "source": [
    "x_train,x_test,y_train,y_test= train_test_split(x,y,test_size=0.1,random_state=2)"
   ]
  },
  {
   "cell_type": "code",
   "execution_count": 15,
   "id": "e0c892dc",
   "metadata": {},
   "outputs": [
    {
     "name": "stdout",
     "output_type": "stream",
     "text": [
      "    Age  Annual Salary\n",
      "55   53         228494\n",
      "45   27          64297\n",
      "12   28          87675\n",
      "59   42          73404\n",
      "85   58          91729\n",
      "..  ...            ...\n",
      "75   27          75583\n",
      "43   37          83465\n",
      "22   47         104289\n",
      "72   27          81713\n",
      "15   29          74901\n",
      "\n",
      "[126 rows x 2 columns]\n"
     ]
    }
   ],
   "source": [
    "print(x_train)"
   ]
  },
  {
   "cell_type": "code",
   "execution_count": 16,
   "id": "cf964fbd",
   "metadata": {},
   "outputs": [
    {
     "data": {
      "text/plain": [
       "55    0.33\n",
       "45    0.00\n",
       "12    0.00\n",
       "59    0.00\n",
       "85    0.13\n",
       "      ... \n",
       "75    0.00\n",
       "43    0.00\n",
       "22    0.00\n",
       "72    0.00\n",
       "15    0.00\n",
       "Name: Bonus %, Length: 126, dtype: float64"
      ]
     },
     "execution_count": 16,
     "metadata": {},
     "output_type": "execute_result"
    }
   ],
   "source": [
    "y_train"
   ]
  },
  {
   "cell_type": "code",
   "execution_count": 17,
   "id": "41a6820f",
   "metadata": {},
   "outputs": [
    {
     "data": {
      "text/plain": [
       "131    0.00\n",
       "99     0.00\n",
       "93     0.00\n",
       "41     0.00\n",
       "3      0.00\n",
       "24     0.39\n",
       "48     0.00\n",
       "120    0.00\n",
       "2      0.33\n",
       "5      0.31\n",
       "71     0.00\n",
       "117    0.00\n",
       "84     0.00\n",
       "23     0.00\n",
       "91     0.00\n",
       "Name: Bonus %, dtype: float64"
      ]
     },
     "execution_count": 17,
     "metadata": {},
     "output_type": "execute_result"
    }
   ],
   "source": [
    "y_test"
   ]
  },
  {
   "cell_type": "code",
   "execution_count": 18,
   "id": "0b683599",
   "metadata": {},
   "outputs": [
    {
     "data": {
      "text/html": [
       "<div>\n",
       "<style scoped>\n",
       "    .dataframe tbody tr th:only-of-type {\n",
       "        vertical-align: middle;\n",
       "    }\n",
       "\n",
       "    .dataframe tbody tr th {\n",
       "        vertical-align: top;\n",
       "    }\n",
       "\n",
       "    .dataframe thead th {\n",
       "        text-align: right;\n",
       "    }\n",
       "</style>\n",
       "<table border=\"1\" class=\"dataframe\">\n",
       "  <thead>\n",
       "    <tr style=\"text-align: right;\">\n",
       "      <th></th>\n",
       "      <th>Age</th>\n",
       "      <th>Annual Salary</th>\n",
       "    </tr>\n",
       "  </thead>\n",
       "  <tbody>\n",
       "    <tr>\n",
       "      <th>131</th>\n",
       "      <td>42</td>\n",
       "      <td>93851</td>\n",
       "    </tr>\n",
       "    <tr>\n",
       "      <th>99</th>\n",
       "      <td>31</td>\n",
       "      <td>72475</td>\n",
       "    </tr>\n",
       "    <tr>\n",
       "      <th>93</th>\n",
       "      <td>55</td>\n",
       "      <td>67131</td>\n",
       "    </tr>\n",
       "    <tr>\n",
       "      <th>41</th>\n",
       "      <td>52</td>\n",
       "      <td>89811</td>\n",
       "    </tr>\n",
       "    <tr>\n",
       "      <th>3</th>\n",
       "      <td>54</td>\n",
       "      <td>88689</td>\n",
       "    </tr>\n",
       "    <tr>\n",
       "      <th>24</th>\n",
       "      <td>26</td>\n",
       "      <td>249062</td>\n",
       "    </tr>\n",
       "    <tr>\n",
       "      <th>48</th>\n",
       "      <td>36</td>\n",
       "      <td>67457</td>\n",
       "    </tr>\n",
       "    <tr>\n",
       "      <th>120</th>\n",
       "      <td>62</td>\n",
       "      <td>73500</td>\n",
       "    </tr>\n",
       "    <tr>\n",
       "      <th>2</th>\n",
       "      <td>45</td>\n",
       "      <td>254486</td>\n",
       "    </tr>\n",
       "    <tr>\n",
       "      <th>5</th>\n",
       "      <td>65</td>\n",
       "      <td>203030</td>\n",
       "    </tr>\n",
       "    <tr>\n",
       "      <th>71</th>\n",
       "      <td>34</td>\n",
       "      <td>83220</td>\n",
       "    </tr>\n",
       "    <tr>\n",
       "      <th>117</th>\n",
       "      <td>46</td>\n",
       "      <td>99586</td>\n",
       "    </tr>\n",
       "    <tr>\n",
       "      <th>84</th>\n",
       "      <td>27</td>\n",
       "      <td>61693</td>\n",
       "    </tr>\n",
       "    <tr>\n",
       "      <th>23</th>\n",
       "      <td>60</td>\n",
       "      <td>110554</td>\n",
       "    </tr>\n",
       "    <tr>\n",
       "      <th>91</th>\n",
       "      <td>60</td>\n",
       "      <td>86761</td>\n",
       "    </tr>\n",
       "  </tbody>\n",
       "</table>\n",
       "</div>"
      ],
      "text/plain": [
       "     Age  Annual Salary\n",
       "131   42          93851\n",
       "99    31          72475\n",
       "93    55          67131\n",
       "41    52          89811\n",
       "3     54          88689\n",
       "24    26         249062\n",
       "48    36          67457\n",
       "120   62          73500\n",
       "2     45         254486\n",
       "5     65         203030\n",
       "71    34          83220\n",
       "117   46          99586\n",
       "84    27          61693\n",
       "23    60         110554\n",
       "91    60          86761"
      ]
     },
     "execution_count": 18,
     "metadata": {},
     "output_type": "execute_result"
    }
   ],
   "source": [
    "x_test"
   ]
  },
  {
   "cell_type": "code",
   "execution_count": 19,
   "id": "3dbca155",
   "metadata": {},
   "outputs": [],
   "source": [
    "from sklearn.linear_model import LinearRegression"
   ]
  },
  {
   "cell_type": "code",
   "execution_count": 20,
   "id": "edf8540f",
   "metadata": {},
   "outputs": [],
   "source": [
    "reg=LinearRegression()"
   ]
  },
  {
   "cell_type": "code",
   "execution_count": 21,
   "id": "06646b6e",
   "metadata": {},
   "outputs": [],
   "source": [
    "Z=reg.fit(x_train,y_train)"
   ]
  },
  {
   "cell_type": "code",
   "execution_count": 22,
   "id": "741992b0",
   "metadata": {},
   "outputs": [],
   "source": [
    "y_pred=reg.predict(x_test)"
   ]
  },
  {
   "cell_type": "code",
   "execution_count": 23,
   "id": "40a73bfd",
   "metadata": {},
   "outputs": [
    {
     "data": {
      "text/plain": [
       "array([ 0.0265303 , -0.02559103, -0.02733805,  0.0217745 ,  0.02012587,\n",
       "        0.36454401, -0.03462824, -0.01023826,  0.3846064 ,  0.27874582,\n",
       "       -0.00045827,  0.0409564 , -0.05122779,  0.07122437,  0.01837414])"
      ]
     },
     "execution_count": 23,
     "metadata": {},
     "output_type": "execute_result"
    }
   ],
   "source": [
    "y_pred"
   ]
  },
  {
   "cell_type": "code",
   "execution_count": 24,
   "id": "c9202611",
   "metadata": {},
   "outputs": [],
   "source": [
    "from sklearn.metrics import r2_score"
   ]
  },
  {
   "cell_type": "code",
   "execution_count": 25,
   "id": "e1f147fe",
   "metadata": {},
   "outputs": [
    {
     "data": {
      "text/plain": [
       "0.9350205711090704"
      ]
     },
     "execution_count": 25,
     "metadata": {},
     "output_type": "execute_result"
    }
   ],
   "source": [
    "r2_score(y_test,y_pred)"
   ]
  },
  {
   "cell_type": "code",
   "execution_count": 26,
   "id": "ced4052c",
   "metadata": {},
   "outputs": [
    {
     "data": {
      "text/plain": [
       "0.7902094381398956"
      ]
     },
     "execution_count": 26,
     "metadata": {},
     "output_type": "execute_result"
    }
   ],
   "source": [
    "r2_score(y_train,reg.predict(x_train))"
   ]
  },
  {
   "cell_type": "code",
   "execution_count": null,
   "id": "d36d00e2",
   "metadata": {},
   "outputs": [],
   "source": []
  }
 ],
 "metadata": {
  "kernelspec": {
   "display_name": "Python 3 (ipykernel)",
   "language": "python",
   "name": "python3"
  },
  "language_info": {
   "codemirror_mode": {
    "name": "ipython",
    "version": 3
   },
   "file_extension": ".py",
   "mimetype": "text/x-python",
   "name": "python",
   "nbconvert_exporter": "python",
   "pygments_lexer": "ipython3",
   "version": "3.12.7"
  }
 },
 "nbformat": 4,
 "nbformat_minor": 5
}
